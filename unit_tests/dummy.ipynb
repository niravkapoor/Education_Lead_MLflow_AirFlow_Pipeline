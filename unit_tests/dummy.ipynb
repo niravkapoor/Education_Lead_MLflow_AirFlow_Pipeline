{
 "cells": [
  {
   "cell_type": "code",
   "execution_count": 1,
   "id": "dc117bc9-951d-420b-9d14-2f77448467ce",
   "metadata": {},
   "outputs": [],
   "source": [
    "from utils import *"
   ]
  },
  {
   "cell_type": "code",
   "execution_count": 3,
   "id": "744dbf31-08d7-47ea-a93f-ef7c5e9691b5",
   "metadata": {},
   "outputs": [
    {
     "name": "stdout",
     "output_type": "stream",
     "text": [
      "DB Already Exsist\n"
     ]
    },
    {
     "data": {
      "text/plain": [
       "'DB Exsists'"
      ]
     },
     "execution_count": 3,
     "metadata": {},
     "output_type": "execute_result"
    }
   ],
   "source": [
    "build_dbs()"
   ]
  },
  {
   "cell_type": "code",
   "execution_count": 4,
   "id": "d801c968-8cd9-478b-b2dd-50a16b5140ea",
   "metadata": {},
   "outputs": [],
   "source": [
    "load_data_into_db()"
   ]
  },
  {
   "cell_type": "code",
   "execution_count": 5,
   "id": "15e0db57-03f3-45f1-9b0c-ed0d6786dd94",
   "metadata": {},
   "outputs": [],
   "source": [
    "map_city_tier()"
   ]
  },
  {
   "cell_type": "code",
   "execution_count": 6,
   "id": "857c9fcc-b093-4e12-811a-ec85b9972a47",
   "metadata": {},
   "outputs": [
    {
     "name": "stderr",
     "output_type": "stream",
     "text": [
      "/home/Assignment/01_data_pipeline/scripts/utils.py:192: SettingWithCopyWarning: \n",
      "A value is trying to be set on a copy of a slice from a DataFrame.\n",
      "Try using .loc[row_indexer,col_indexer] = value instead\n",
      "\n",
      "See the caveats in the documentation: https://pandas.pydata.org/pandas-docs/stable/user_guide/indexing.html#returning-a-view-versus-a-copy\n",
      "  new_df['first_platform_c'] = \"others\"\n",
      "/home/Assignment/01_data_pipeline/scripts/utils.py:201: SettingWithCopyWarning: \n",
      "A value is trying to be set on a copy of a slice from a DataFrame.\n",
      "Try using .loc[row_indexer,col_indexer] = value instead\n",
      "\n",
      "See the caveats in the documentation: https://pandas.pydata.org/pandas-docs/stable/user_guide/indexing.html#returning-a-view-versus-a-copy\n",
      "  new_df['first_utm_medium_c'] = \"others\"\n",
      "/home/Assignment/01_data_pipeline/scripts/utils.py:210: SettingWithCopyWarning: \n",
      "A value is trying to be set on a copy of a slice from a DataFrame.\n",
      "Try using .loc[row_indexer,col_indexer] = value instead\n",
      "\n",
      "See the caveats in the documentation: https://pandas.pydata.org/pandas-docs/stable/user_guide/indexing.html#returning-a-view-versus-a-copy\n",
      "  new_df['first_utm_source_c'] = \"others\"\n"
     ]
    }
   ],
   "source": [
    "map_categorical_vars()"
   ]
  },
  {
   "cell_type": "code",
   "execution_count": 2,
   "id": "36445be0-93fa-4456-a916-9abe104b4079",
   "metadata": {},
   "outputs": [
    {
     "name": "stdout",
     "output_type": "stream",
     "text": [
      "['created_date', 'city_tier', 'first_platform_c', 'first_utm_medium_c', 'first_utm_source_c', 'total_leads_droppped', 'referred_lead', 'app_complete_flag'] Index(['Unnamed: 0', 'created_date', 'first_platform_c', 'first_utm_medium_c',\n",
      "       'first_utm_source_c', 'total_leads_droppped', 'referred_lead',\n",
      "       '1_on_1_industry_mentorship', 'call_us_button_clicked',\n",
      "       'career_assistance', 'career_coach', 'career_impact', 'careers',\n",
      "       'chat_clicked', 'companies', 'download_button_clicked',\n",
      "       'download_syllabus', 'emi_partner_click', 'emi_plans_clicked',\n",
      "       'fee_component_click', 'hiring_partners',\n",
      "       'homepage_upgrad_support_number_clicked',\n",
      "       'industry_projects_case_studies', 'live_chat_button_clicked',\n",
      "       'payment_amount_toggle_mover', 'placement_support',\n",
      "       'placement_support_banner_tab_clicked', 'program_structure',\n",
      "       'programme_curriculum', 'programme_faculty',\n",
      "       'request_callback_on_instant_customer_support_cta_clicked',\n",
      "       'shorts_entry_click', 'social_referral_click',\n",
      "       'specialisation_tab_clicked', 'specializations', 'specilization_click',\n",
      "       'syllabus', 'syllabus_expand', 'syllabus_submodule_expand',\n",
      "       'tab_career_assistance', 'tab_job_opportunities', 'tab_student_support',\n",
      "       'view_programs_page', 'whatsapp_chat_click', 'app_complete_flag',\n",
      "       'city_tier'],\n",
      "      dtype='object')\n"
     ]
    }
   ],
   "source": [
    "interactions_mapping()"
   ]
  },
  {
   "cell_type": "code",
   "execution_count": null,
   "id": "b440227d-292a-4fd7-b2a2-a173e9e49d01",
   "metadata": {},
   "outputs": [],
   "source": []
  }
 ],
 "metadata": {
  "kernelspec": {
   "display_name": "Python 3 (ipykernel)",
   "language": "python",
   "name": "python3"
  },
  "language_info": {
   "codemirror_mode": {
    "name": "ipython",
    "version": 3
   },
   "file_extension": ".py",
   "mimetype": "text/x-python",
   "name": "python",
   "nbconvert_exporter": "python",
   "pygments_lexer": "ipython3",
   "version": "3.8.12"
  }
 },
 "nbformat": 4,
 "nbformat_minor": 5
}
